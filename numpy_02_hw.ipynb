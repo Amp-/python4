{
 "cells": [
  {
   "cell_type": "code",
   "execution_count": 1,
   "metadata": {},
   "outputs": [],
   "source": [
    "# 1. Импортировать NumPy\n",
    "import numpy as np"
   ]
  },
  {
   "cell_type": "code",
   "execution_count": null,
   "metadata": {},
   "outputs": [],
   "source": [
    "# 1.1 Создать массив 10 x 10 со случайными значениями от 1 до 100(int64)\n",
    "\n",
    "# 1.2 найти среднее значение всех элементов массива\n",
    "\n",
    "# 1.3 найти среднее значение всех элементов для каждой строки   np.mean()\n",
    "# и добавить как новый столбец\n",
    "\n",
    "# 1.4 найти сумму значение всех элементов для каждого столбца   np.sum()\n",
    "# и добавить как новую строку, учитывая результат 1.3"
   ]
  },
  {
   "cell_type": "code",
   "execution_count": 2,
   "metadata": {},
   "outputs": [
    {
     "name": "stdout",
     "output_type": "stream",
     "text": [
      "Массив:\n",
      " [[79 62 17 74  9 63 28 31 81  8]\n",
      " [77 16 54 81 28 45 78 76 66 48]\n",
      " [31 85 87 19 10 42 63  2 83 17]\n",
      " [79  6 59  1 81  5 37 52 28 32]\n",
      " [ 3 69 39 84 20 19  8 31 63 12]\n",
      " [68 66 56  4 92 79 28 30 34 90]\n",
      " [86  8 17 95 15 91 32 10 39 48]\n",
      " [17  6 35 46 60 25 14 32 33 77]\n",
      " [45  6 15 48 95 83  1  8 87 17]\n",
      " [65  9 91 45 38 95 76  6 23 53]]\n"
     ]
    }
   ],
   "source": [
    "np.random.seed(5)#создаем мматрицу\n",
    "arr = np.random.randint(1,100,(10,10))\n",
    "arr = arr.astype(np.int64)\n",
    "print(f\"Массив:\\n {arr}\")"
   ]
  },
  {
   "cell_type": "code",
   "execution_count": 3,
   "metadata": {},
   "outputs": [
    {
     "name": "stdout",
     "output_type": "stream",
     "text": [
      "Среднее значание всех элементов: 44.27\n"
     ]
    }
   ],
   "source": [
    "arr_mean = np.mean(arr)#ищем среднее значение всех элемнтов матрицы\n",
    "print(f'Среднее значание всех элементов массива : {arr_mean}')"
   ]
  },
  {
   "cell_type": "code",
   "execution_count": 4,
   "metadata": {},
   "outputs": [
    {
     "data": {
      "text/plain": [
       "array([45.2, 56.9, 43.9, 38. , 34.8, 54.7, 44.1, 34.5, 40.5, 50.1])"
      ]
     },
     "execution_count": 4,
     "metadata": {},
     "output_type": "execute_result"
    }
   ],
   "source": [
    "arr_mean_str = arr.mean(axis=1) #построчное среднее значение всех элемнтов матрицы\n",
    "arr_mean_str"
   ]
  },
  {
   "cell_type": "code",
   "execution_count": 18,
   "metadata": {},
   "outputs": [
    {
     "data": {
      "text/plain": [
       "array([[79. , 62. , 17. , 74. ,  9. , 63. , 28. , 31. , 81. ,  8. , 45.2],\n",
       "       [77. , 16. , 54. , 81. , 28. , 45. , 78. , 76. , 66. , 48. , 56.9],\n",
       "       [31. , 85. , 87. , 19. , 10. , 42. , 63. ,  2. , 83. , 17. , 43.9],\n",
       "       [79. ,  6. , 59. ,  1. , 81. ,  5. , 37. , 52. , 28. , 32. , 38. ],\n",
       "       [ 3. , 69. , 39. , 84. , 20. , 19. ,  8. , 31. , 63. , 12. , 34.8],\n",
       "       [68. , 66. , 56. ,  4. , 92. , 79. , 28. , 30. , 34. , 90. , 54.7],\n",
       "       [86. ,  8. , 17. , 95. , 15. , 91. , 32. , 10. , 39. , 48. , 44.1],\n",
       "       [17. ,  6. , 35. , 46. , 60. , 25. , 14. , 32. , 33. , 77. , 34.5],\n",
       "       [45. ,  6. , 15. , 48. , 95. , 83. ,  1. ,  8. , 87. , 17. , 40.5],\n",
       "       [65. ,  9. , 91. , 45. , 38. , 95. , 76. ,  6. , 23. , 53. , 50.1]])"
      ]
     },
     "execution_count": 18,
     "metadata": {},
     "output_type": "execute_result"
    }
   ],
   "source": [
    "p = np.reshape(arr_mean_str,(10,1))\n",
    "arr_hst = np.hstack((arr,p))\n",
    "arr_hst"
   ]
  },
  {
   "cell_type": "code",
   "execution_count": 21,
   "metadata": {},
   "outputs": [
    {
     "data": {
      "text/plain": [
       "array([550. , 333. , 470. , 497. , 448. , 547. , 365. , 278. , 537. ,\n",
       "       402. , 442.7])"
      ]
     },
     "execution_count": 21,
     "metadata": {},
     "output_type": "execute_result"
    }
   ],
   "source": [
    "arr_summ_str = arr_hst.sum(axis=0)\n",
    "arr_summ_str"
   ]
  },
  {
   "cell_type": "code",
   "execution_count": 23,
   "metadata": {},
   "outputs": [
    {
     "name": "stdout",
     "output_type": "stream",
     "text": [
      "[[ 79.   62.   17.   74.    9.   63.   28.   31.   81.    8.   45.2]\n",
      " [ 77.   16.   54.   81.   28.   45.   78.   76.   66.   48.   56.9]\n",
      " [ 31.   85.   87.   19.   10.   42.   63.    2.   83.   17.   43.9]\n",
      " [ 79.    6.   59.    1.   81.    5.   37.   52.   28.   32.   38. ]\n",
      " [  3.   69.   39.   84.   20.   19.    8.   31.   63.   12.   34.8]\n",
      " [ 68.   66.   56.    4.   92.   79.   28.   30.   34.   90.   54.7]\n",
      " [ 86.    8.   17.   95.   15.   91.   32.   10.   39.   48.   44.1]\n",
      " [ 17.    6.   35.   46.   60.   25.   14.   32.   33.   77.   34.5]\n",
      " [ 45.    6.   15.   48.   95.   83.    1.    8.   87.   17.   40.5]\n",
      " [ 65.    9.   91.   45.   38.   95.   76.    6.   23.   53.   50.1]\n",
      " [550.  333.  470.  497.  448.  547.  365.  278.  537.  402.  442.7]]\n"
     ]
    }
   ],
   "source": [
    "arr_summ_str = arr_summ_str.T\n",
    "total = np.vstack((arr_hst,arr_summ_str))\n",
    "print(total)"
   ]
  },
  {
   "cell_type": "markdown",
   "metadata": {},
   "source": [
    "### 2. Создать матрицу 7x7 с значениями 1,2,3,4,5,6,7 по главной диагонали, остальные нули."
   ]
  },
  {
   "cell_type": "code",
   "execution_count": 34,
   "metadata": {},
   "outputs": [
    {
     "data": {
      "text/plain": [
       "array([[1, 0, 0, 0, 0, 0, 0],\n",
       "       [0, 2, 0, 0, 0, 0, 0],\n",
       "       [0, 0, 3, 0, 0, 0, 0],\n",
       "       [0, 0, 0, 4, 0, 0, 0],\n",
       "       [0, 0, 0, 0, 5, 0, 0],\n",
       "       [0, 0, 0, 0, 0, 6, 0],\n",
       "       [0, 0, 0, 0, 0, 0, 7]])"
      ]
     },
     "execution_count": 34,
     "metadata": {},
     "output_type": "execute_result"
    }
   ],
   "source": [
    "arr_diag = np.diag(range(1,8))\n",
    "arr_diag"
   ]
  },
  {
   "cell_type": "markdown",
   "metadata": {},
   "source": [
    "### 3. Создать случайную матрицу 5x7 целых чисел от 1 до 100 и поменять местами 3 и 5 колонки"
   ]
  },
  {
   "cell_type": "code",
   "execution_count": 38,
   "metadata": {},
   "outputs": [
    {
     "data": {
      "text/plain": [
       "array([[79, 62, 17, 74,  9, 63, 28],\n",
       "       [31, 81,  8, 77, 16, 54, 81],\n",
       "       [28, 45, 78, 76, 66, 48, 31],\n",
       "       [85, 87, 19, 10, 42, 63,  2],\n",
       "       [83, 17, 79,  6, 59,  1, 81]])"
      ]
     },
     "execution_count": 38,
     "metadata": {},
     "output_type": "execute_result"
    }
   ],
   "source": [
    "np.random.seed(5)\n",
    "arr3 = np.random.randint(1,100,(5,7))\n",
    "arr3"
   ]
  },
  {
   "cell_type": "code",
   "execution_count": 39,
   "metadata": {},
   "outputs": [
    {
     "data": {
      "text/plain": [
       "array([[79, 62, 17, 63,  9, 74, 28],\n",
       "       [31, 81,  8, 54, 16, 77, 81],\n",
       "       [28, 45, 78, 48, 66, 76, 31],\n",
       "       [85, 87, 19, 63, 42, 10,  2],\n",
       "       [83, 17, 79,  1, 59,  6, 81]])"
      ]
     },
     "execution_count": 39,
     "metadata": {},
     "output_type": "execute_result"
    }
   ],
   "source": [
    "arr3[:,(3,5)] = arr3[:,(5,3)]\n",
    "arr3"
   ]
  }
 ],
 "metadata": {
  "kernelspec": {
   "display_name": "Python 3 (ipykernel)",
   "language": "python",
   "name": "python3"
  },
  "language_info": {
   "codemirror_mode": {
    "name": "ipython",
    "version": 3
   },
   "file_extension": ".py",
   "mimetype": "text/x-python",
   "name": "python",
   "nbconvert_exporter": "python",
   "pygments_lexer": "ipython3",
   "version": "3.11.4"
  }
 },
 "nbformat": 4,
 "nbformat_minor": 2
}
