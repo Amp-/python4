{
 "cells": [
  {
   "cell_type": "markdown",
   "id": "179f4e17",
   "metadata": {},
   "source": [
    "Создайте объект Series для хранения оценок по какому-либо предмету, например, по \"Линейной Алгебре\". Пусть он содержит 5 студентов со случайными оценками от 2 до 5. Фамилии студентов должны быть индексами.\n",
    "\n",
    "Выведите средний балл для всех, у кого оценка больше или равна 3.\n",
    "\n",
    "Создайте другой объект Series, для хранения оценок по другому предмету, например по \"Математическому Анализу\". Посчитайте средний балл для каждого студента по этим двум предметам.\n"
   ]
  },
  {
   "cell_type": "code",
   "execution_count": 1,
   "id": "f9450cff",
   "metadata": {},
   "outputs": [],
   "source": [
    "import numpy as np\n",
    "import pandas as pd\n",
    "from faker import Faker"
   ]
  },
  {
   "cell_type": "code",
   "execution_count": 2,
   "id": "cdc1b924",
   "metadata": {},
   "outputs": [
    {
     "data": {
      "text/plain": [
       "['Татьяна Олеговна Владимирова',\n",
       " 'Нина Егоровна Колесникова',\n",
       " 'Белозерова Людмила Юрьевна',\n",
       " 'Эраст Исидорович Дьячков',\n",
       " 'Авдеева Оксана Дмитриевна',\n",
       " 'Шубина Антонина Оскаровна',\n",
       " 'Евгений Теймуразович Потапов',\n",
       " 'Радим Захарьевич Комаров',\n",
       " 'Евдоким Архипович Дьячков',\n",
       " 'Филатова Зоя Артемовна']"
      ]
     },
     "execution_count": 2,
     "metadata": {},
     "output_type": "execute_result"
    }
   ],
   "source": [
    "fake= Faker(\"ru_Ru\")\n",
    "name = [(fake.name()) for _ in range(10)]\n",
    "name"
   ]
  },
  {
   "cell_type": "code",
   "execution_count": 3,
   "id": "d54ca04c",
   "metadata": {},
   "outputs": [],
   "source": [
    "la = pd.Series(np.random.randint(2,5,10))\n",
    "la.name = 'Линейная алгебра'\n",
    "la.index = [name]"
   ]
  },
  {
   "cell_type": "code",
   "execution_count": 12,
   "id": "9af5627c",
   "metadata": {},
   "outputs": [
    {
     "name": "stdout",
     "output_type": "stream",
     "text": [
      "Студенты с оценкой выше 3 бала :\n",
      "Татьяна Олеговна Владимирова    4\n",
      "Нина Егоровна Колесникова       3\n",
      "Авдеева Оксана Дмитриевна       3\n",
      "Шубина Антонина Оскаровна       4\n",
      "Name: Линейная алгебра, dtype: int32\n"
     ]
    }
   ],
   "source": [
    "print(f'Студенты с оценкой выше 3 бала :\\n{la[la>=3]}')"
   ]
  },
  {
   "cell_type": "code",
   "execution_count": 7,
   "id": "b01a3027",
   "metadata": {},
   "outputs": [
    {
     "data": {
      "text/plain": [
       "Татьяна Олеговна Владимирова    5\n",
       "Нина Егоровна Колесникова       4\n",
       "Белозерова Людмила Юрьевна      4\n",
       "Эраст Исидорович Дьячков        5\n",
       "Авдеева Оксана Дмитриевна       4\n",
       "Шубина Антонина Оскаровна       3\n",
       "Евгений Теймуразович Потапов    4\n",
       "Радим Захарьевич Комаров        2\n",
       "Евдоким Архипович Дьячков       5\n",
       "Филатова Зоя Артемовна          3\n",
       "Name: Линейная алгебра, dtype: int32"
      ]
     },
     "execution_count": 7,
     "metadata": {},
     "output_type": "execute_result"
    }
   ],
   "source": [
    "ma = pd.Series(np.random.randint(2,6,10))\n",
    "ma.index = [name]\n",
    "ma.name = 'Линейная алгебра'\n",
    "ma"
   ]
  },
  {
   "cell_type": "code",
   "execution_count": 10,
   "id": "7a25508d",
   "metadata": {},
   "outputs": [
    {
     "name": "stdout",
     "output_type": "stream",
     "text": [
      "Средняя оценка по двум предметам:\n",
      "Татьяна Олеговна Владимирова    4.5\n",
      "Нина Егоровна Колесникова       3.5\n",
      "Белозерова Людмила Юрьевна      3.0\n",
      "Эраст Исидорович Дьячков        3.5\n",
      "Авдеева Оксана Дмитриевна       3.5\n",
      "Шубина Антонина Оскаровна       3.5\n",
      "Евгений Теймуразович Потапов    3.0\n",
      "Радим Захарьевич Комаров        2.0\n",
      "Евдоким Архипович Дьячков       3.5\n",
      "Филатова Зоя Артемовна          2.5\n",
      "Name: Линейная алгебра, dtype: float64\n"
     ]
    }
   ],
   "source": [
    "com_mean = (la + ma)/2\n",
    "print(f'Средняя оценка по двум предметам:\\n{com_mean}')"
   ]
  },
  {
   "cell_type": "code",
   "execution_count": null,
   "id": "3d966c76",
   "metadata": {},
   "outputs": [],
   "source": []
  },
  {
   "cell_type": "code",
   "execution_count": null,
   "id": "22ca2150",
   "metadata": {},
   "outputs": [],
   "source": []
  },
  {
   "cell_type": "code",
   "execution_count": null,
   "id": "05abe30e",
   "metadata": {},
   "outputs": [],
   "source": []
  },
  {
   "cell_type": "code",
   "execution_count": null,
   "id": "fa774a4a",
   "metadata": {},
   "outputs": [],
   "source": []
  },
  {
   "cell_type": "code",
   "execution_count": null,
   "id": "e9956359",
   "metadata": {},
   "outputs": [],
   "source": []
  }
 ],
 "metadata": {
  "kernelspec": {
   "display_name": "Python 3 (ipykernel)",
   "language": "python",
   "name": "python3"
  },
  "language_info": {
   "codemirror_mode": {
    "name": "ipython",
    "version": 3
   },
   "file_extension": ".py",
   "mimetype": "text/x-python",
   "name": "python",
   "nbconvert_exporter": "python",
   "pygments_lexer": "ipython3",
   "version": "3.11.4"
  }
 },
 "nbformat": 4,
 "nbformat_minor": 5
}
