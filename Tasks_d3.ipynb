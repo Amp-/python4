{
 "cells": [
  {
   "cell_type": "code",
   "execution_count": 2,
   "metadata": {},
   "outputs": [],
   "source": [
    "import numpy as np"
   ]
  },
  {
   "cell_type": "markdown",
   "metadata": {},
   "source": [
    "__Задача 1__\n",
    "\n",
    "Напишите функцию, которая находит сумму четных элементов на главной \n",
    "диагонали квадратной матрицы (именно чётных элементов, а не элементов на чётных позициях!). \n",
    "Если чётных элементов нет, то вывести 0"
   ]
  },
  {
   "cell_type": "markdown",
   "metadata": {},
   "source": [
    "__Задача 2__\n",
    "\n",
    "Решить задачи при условии, что массив может быть любой размерности:\n",
    "\n",
    "2.1 Заменить максимальный элемент массива на 1000. (Повторяющихся максимальных элементов нет)    \n",
    "2.2 Заменить минимальный элемент массива на 0. (Повторяющиеся минимальные элементы есть, поэтому нужно заменить все)"
   ]
  },
  {
   "cell_type": "code",
   "execution_count": 3,
   "metadata": {},
   "outputs": [
    {
     "data": {
      "text/plain": [
       "array([[10, 16, 65, 29, 90],\n",
       "       [94, 30,  9, 74,  1],\n",
       "       [41, 37, 17, 12, 55],\n",
       "       [89, 63, 34, 73, 79],\n",
       "       [50, 52, 55, 78, 70]])"
      ]
     },
     "execution_count": 3,
     "metadata": {},
     "output_type": "execute_result"
    }
   ],
   "source": [
    "n=5\n",
    "np.random.seed(10)\n",
    "arr = np.random.randint(1,100,(n,n))\n",
    "arr"
   ]
  },
  {
   "cell_type": "code",
   "execution_count": 5,
   "metadata": {},
   "outputs": [],
   "source": [
    "def calc_sum(some_arr):\n",
    "    diag = np.diag(arr)#получаем вектор сткроку со значениями диагонали\n",
    "    numb = diag[np.diag(arr)%2 == 0] #применяем булево индексирование\n",
    "    c_s = np.sum(numb)\n",
    "    return c_s"
   ]
  },
  {
   "cell_type": "code",
   "execution_count": 6,
   "metadata": {},
   "outputs": [
    {
     "data": {
      "text/plain": [
       "110"
      ]
     },
     "execution_count": 6,
     "metadata": {},
     "output_type": "execute_result"
    }
   ],
   "source": [
    "calc_sum(arr)"
   ]
  },
  {
   "cell_type": "markdown",
   "metadata": {},
   "source": [
    "### Задача 2.1"
   ]
  },
  {
   "cell_type": "code",
   "execution_count": 16,
   "metadata": {},
   "outputs": [
    {
     "name": "stdout",
     "output_type": "stream",
     "text": [
      "[[ 16  30  38]\n",
      " [ 39  50  56]\n",
      " [ 67  75 131]\n",
      " [160 206 210]\n",
      " [226 249 269]]\n"
     ]
    }
   ],
   "source": [
    "c=5\n",
    "r=3\n",
    "arr_data = np.random.randint(1,300,(c,r))\n",
    "arr_2 = np.unique(arr_data).reshape(c,r)\n",
    "print(arr_2)"
   ]
  },
  {
   "cell_type": "code",
   "execution_count": 18,
   "metadata": {},
   "outputs": [
    {
     "data": {
      "text/plain": [
       "269"
      ]
     },
     "execution_count": 18,
     "metadata": {},
     "output_type": "execute_result"
    }
   ],
   "source": [
    "max_value = np.max(arr_2)\n",
    "max_value"
   ]
  },
  {
   "cell_type": "code",
   "execution_count": 26,
   "metadata": {},
   "outputs": [
    {
     "data": {
      "text/plain": [
       "array([[False, False, False],\n",
       "       [False, False, False],\n",
       "       [False, False, False],\n",
       "       [False, False, False],\n",
       "       [False, False,  True]])"
      ]
     },
     "execution_count": 26,
     "metadata": {},
     "output_type": "execute_result"
    }
   ],
   "source": [
    "mask_max = arr_2 == max_value\n",
    "mask_max"
   ]
  },
  {
   "cell_type": "code",
   "execution_count": 37,
   "metadata": {},
   "outputs": [
    {
     "data": {
      "text/plain": [
       "array([[  16,   30,   38],\n",
       "       [  39,   50,   56],\n",
       "       [  67,   75,  131],\n",
       "       [ 160,  206,  210],\n",
       "       [ 226,  249, 1000]])"
      ]
     },
     "execution_count": 37,
     "metadata": {},
     "output_type": "execute_result"
    }
   ],
   "source": [
    "arr2_ex = np.where(mask_max,1000,arr_2)\n",
    "arr2_ex"
   ]
  },
  {
   "cell_type": "markdown",
   "metadata": {},
   "source": [
    "### Задача 2.2"
   ]
  },
  {
   "cell_type": "code",
   "execution_count": 28,
   "metadata": {},
   "outputs": [
    {
     "data": {
      "text/plain": [
       "array([[267, 248,  12],\n",
       "       [211, 163, 120],\n",
       "       [140,  47, 165],\n",
       "       [ 64, 248,   4],\n",
       "       [ 60, 250, 163]])"
      ]
     },
     "execution_count": 28,
     "metadata": {},
     "output_type": "execute_result"
    }
   ],
   "source": [
    "c=5\n",
    "r=3\n",
    "arr3 = np.random.randint(1,300,(c,r))\n",
    "arr3"
   ]
  },
  {
   "cell_type": "code",
   "execution_count": 32,
   "metadata": {},
   "outputs": [
    {
     "data": {
      "text/plain": [
       "4"
      ]
     },
     "execution_count": 32,
     "metadata": {},
     "output_type": "execute_result"
    }
   ],
   "source": [
    "min_value = np.min(arr3)\n",
    "min_value"
   ]
  },
  {
   "cell_type": "code",
   "execution_count": 34,
   "metadata": {},
   "outputs": [
    {
     "data": {
      "text/plain": [
       "array([[False, False, False],\n",
       "       [False, False, False],\n",
       "       [False, False, False],\n",
       "       [False, False,  True],\n",
       "       [False, False, False]])"
      ]
     },
     "execution_count": 34,
     "metadata": {},
     "output_type": "execute_result"
    }
   ],
   "source": [
    "mask_min = arr3 == min_value\n",
    "mask_min"
   ]
  },
  {
   "cell_type": "code",
   "execution_count": 40,
   "metadata": {},
   "outputs": [
    {
     "data": {
      "text/plain": [
       "array([[267, 248,  12],\n",
       "       [211, 163, 120],\n",
       "       [140,  47, 165],\n",
       "       [ 64, 248,   0],\n",
       "       [ 60, 250, 163]])"
      ]
     },
     "execution_count": 40,
     "metadata": {},
     "output_type": "execute_result"
    }
   ],
   "source": [
    "arr3_ex = np.where(mask_min,0,arr3)\n",
    "arr3_ex"
   ]
  },
  {
   "cell_type": "code",
   "execution_count": null,
   "metadata": {},
   "outputs": [],
   "source": []
  }
 ],
 "metadata": {
  "kernelspec": {
   "display_name": "Python 3 (ipykernel)",
   "language": "python",
   "name": "python3"
  },
  "language_info": {
   "codemirror_mode": {
    "name": "ipython",
    "version": 3
   },
   "file_extension": ".py",
   "mimetype": "text/x-python",
   "name": "python",
   "nbconvert_exporter": "python",
   "pygments_lexer": "ipython3",
   "version": "3.11.4"
  }
 },
 "nbformat": 4,
 "nbformat_minor": 4
}
